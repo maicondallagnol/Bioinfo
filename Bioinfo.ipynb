{
 "cells": [
  {
   "cell_type": "code",
   "execution_count": 166,
   "metadata": {},
   "outputs": [],
   "source": [
    "import pandas as pd\n",
    "import re"
   ]
  },
  {
   "cell_type": "code",
   "execution_count": 343,
   "metadata": {},
   "outputs": [],
   "source": [
    "arq = open('base.txt', 'r')"
   ]
  },
  {
   "cell_type": "code",
   "execution_count": 344,
   "metadata": {},
   "outputs": [],
   "source": [
    "lista = []\n",
    "\n",
    "for linha in arq:\n",
    "    lista.append(linha.strip())"
   ]
  },
  {
   "cell_type": "code",
   "execution_count": 345,
   "metadata": {},
   "outputs": [],
   "source": [
    "# tamanho = 2\n",
    "# dict_tamanhos = {}\n",
    "# for i in range(len(lista[0])-tamanho):\n",
    "#     search = lista[0].find(lista[0][i:i+tamanho], i+1)\n",
    "#     if search != -1:\n",
    "#         try:\n",
    "#             dict_tamanhos[lista[0][i:i+tamanho]].append(search)\n",
    "        \n",
    "#         except:\n",
    "#             dict_tamanhos.update({lista[0][i:i+tamanho]: [i, search]})"
   ]
  },
  {
   "cell_type": "code",
   "execution_count": 346,
   "metadata": {},
   "outputs": [],
   "source": [
    "teste = ''.join(lista)"
   ]
  },
  {
   "cell_type": "markdown",
   "metadata": {},
   "source": [
    "teste = teste[:1000]"
   ]
  },
  {
   "cell_type": "code",
   "execution_count": 347,
   "metadata": {},
   "outputs": [],
   "source": [
    "dict_comb = {}\n",
    "combinacao = []\n",
    "for valor1 in ['A', 'C', 'G', 'T']:\n",
    "    for valor2 in ['A', 'C', 'G', 'T']:\n",
    "        combinacao.append(valor1+valor2)\n",
    "        \n",
    "combinacao = list(set(combinacao))\n",
    "\n",
    "while(1):\n",
    "    tamanho = len(combinacao[0])\n",
    "    dict_tamanhos = {}\n",
    "    for comb in combinacao:\n",
    "        search = [m.start() for m in re.finditer(comb, teste)]\n",
    "\n",
    "        if (search) and (len(search) != 1):\n",
    "            dict_tamanhos[comb] = search\n",
    "    \n",
    "    if not list(dict_tamanhos.keys()):\n",
    "        break\n",
    "        \n",
    "    dict_comb.update(dict_tamanhos.copy())\n",
    "    \n",
    "    combinacao = []\n",
    "    for valor1 in list(dict_tamanhos.keys()):\n",
    "        for valor2 in list(dict_tamanhos.keys()):\n",
    "            if valor1[1:] == valor2[:-1]:\n",
    "                combinacao.append(valor1+valor2[tamanho-1])\n",
    "    \n",
    "    if not combinacao:\n",
    "        break"
   ]
  },
  {
   "cell_type": "code",
   "execution_count": 348,
   "metadata": {},
   "outputs": [],
   "source": [
    "a = open('teste.json', 'w')\n",
    "a.write(json.dumps(dict_comb))\n",
    "a.close()"
   ]
  },
  {
   "cell_type": "code",
   "execution_count": 285,
   "metadata": {},
   "outputs": [],
   "source": [
    "while(list(dict_tamanhos.keys())):\n",
    "    print('A')"
   ]
  },
  {
   "cell_type": "code",
   "execution_count": 98,
   "metadata": {},
   "outputs": [
    {
     "data": {
      "text/plain": [
       "['TG', 'GT', 'TT', 'AA', 'AT', 'TA', 'AC', 'CT', 'CA']"
      ]
     },
     "execution_count": 98,
     "metadata": {},
     "output_type": "execute_result"
    }
   ],
   "source": [
    "for dupla in list(dict_tamanhos.keys()):\n",
    "    "
   ]
  }
 ],
 "metadata": {
  "kernelspec": {
   "display_name": "Python 3",
   "language": "python",
   "name": "python3"
  },
  "language_info": {
   "codemirror_mode": {
    "name": "ipython",
    "version": 3
   },
   "file_extension": ".py",
   "mimetype": "text/x-python",
   "name": "python",
   "nbconvert_exporter": "python",
   "pygments_lexer": "ipython3",
   "version": "3.7.6"
  }
 },
 "nbformat": 4,
 "nbformat_minor": 4
}
