{
 "cells": [
  {
   "cell_type": "code",
   "execution_count": 14,
   "metadata": {},
   "outputs": [],
   "source": [
    "import pandas as pd\n",
    "import re\n",
    "import json"
   ]
  },
  {
   "cell_type": "code",
   "execution_count": 15,
   "metadata": {},
   "outputs": [],
   "source": [
    "arq = open('base.txt', 'r')"
   ]
  },
  {
   "cell_type": "code",
   "execution_count": 16,
   "metadata": {},
   "outputs": [],
   "source": [
    "lista = []\n",
    "\n",
    "for linha in arq:\n",
    "    lista.append(linha.strip())"
   ]
  },
  {
   "cell_type": "code",
   "execution_count": 17,
   "metadata": {},
   "outputs": [],
   "source": [
    "teste = ''.join(lista)[:1000]"
   ]
  },
  {
   "cell_type": "code",
   "execution_count": 18,
   "metadata": {},
   "outputs": [],
   "source": [
    "dict_comb = {}\n",
    "combinacao = []\n",
    "for valor1 in ['A', 'C', 'G', 'T']:\n",
    "    for valor2 in ['A', 'C', 'G', 'T']:\n",
    "        combinacao.append(valor1+valor2)\n",
    "        \n",
    "combinacao = list(set(combinacao))\n",
    "\n",
    "while(1):\n",
    "    tamanho = len(combinacao[0])\n",
    "    dict_tamanhos = {}\n",
    "    for comb in combinacao:\n",
    "        search = [m.start() for m in re.finditer(comb, teste)]\n",
    "\n",
    "        if (search) and (len(search) != 1):\n",
    "            dict_tamanhos[comb] = search\n",
    "    \n",
    "    if not list(dict_tamanhos.keys()):\n",
    "        break\n",
    "        \n",
    "    dict_comb.update(dict_tamanhos.copy())\n",
    "    \n",
    "    combinacao = []\n",
    "    for valor1 in list(dict_tamanhos.keys()):\n",
    "        for valor2 in list(dict_tamanhos.keys()):\n",
    "            if valor1[1:] == valor2[:-1]:\n",
    "                combinacao.append(valor1+valor2[tamanho-1])\n",
    "    \n",
    "    if not combinacao:\n",
    "        break"
   ]
  },
  {
   "cell_type": "code",
   "execution_count": 19,
   "metadata": {},
   "outputs": [],
   "source": [
    "a = open('teste.json', 'w')\n",
    "a.write(json.dumps(dict_comb))\n",
    "a.close()"
   ]
  }
 ],
 "metadata": {
  "kernelspec": {
   "display_name": "Python 3",
   "language": "python",
   "name": "python3"
  },
  "language_info": {
   "codemirror_mode": {
    "name": "ipython",
    "version": 3
   },
   "file_extension": ".py",
   "mimetype": "text/x-python",
   "name": "python",
   "nbconvert_exporter": "python",
   "pygments_lexer": "ipython3",
   "version": "3.7.6"
  }
 },
 "nbformat": 4,
 "nbformat_minor": 4
}
